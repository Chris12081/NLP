{
 "cells": [
  {
   "cell_type": "markdown",
   "metadata": {},
   "source": [
    "## Data preprocessing 食譜資料前處理"
   ]
  },
  {
   "cell_type": "markdown",
   "metadata": {},
   "source": [
    "### Import neccessary libraries and packages 導入必要套件"
   ]
  },
  {
   "cell_type": "code",
   "execution_count": 1,
   "metadata": {},
   "outputs": [],
   "source": [
    "import matplotlib\n",
    "import pandas as pd\n",
    "import numpy as np\n",
    "import json\n",
    "import pymongo\n",
    "import jieba\n",
    "import string\n",
    "import re\n",
    "import os\n",
    "import time\n",
    "import random\n",
    "import googletrans\n",
    "import nltk\n",
    "from IPython.display import clear_output\n",
    "clear_output(wait=True)\n",
    "from nltk.stem.lancaster import LancasterStemmer\n",
    "from collections import Counter\n",
    "pd.set_option('display.max_columns', 110)\n",
    "import matplotlib.pyplot as plt\n",
    "from wordcloud import WordCloud, STOPWORDS, ImageColorGenerator"
   ]
  },
  {
   "cell_type": "markdown",
   "metadata": {},
   "source": [
    "### Connecting to mongoDB 資料庫連線"
   ]
  },
  {
   "cell_type": "code",
   "execution_count": 2,
   "metadata": {},
   "outputs": [],
   "source": [
    "# Create connnect 建立與mongoDB連線\n",
    "client = pymongo.MongoClient(host='192.168.158.128', port=27017)"
   ]
  },
  {
   "cell_type": "code",
   "execution_count": 3,
   "metadata": {},
   "outputs": [],
   "source": [
    "# assign database 選擇資料庫\n",
    "db = client.tibame\n",
    "# assign colection 選擇collection\n",
    "collection = db.recipe_raw"
   ]
  },
  {
   "cell_type": "code",
   "execution_count": 4,
   "metadata": {},
   "outputs": [],
   "source": [
    "# Query specific column from all recipe_raw 選擇要讀取的資料欄位\n",
    "queryArgs = {}\n",
    "projectField = {'_id' : True, 'url' : True, 'title' : True, 'author' : True, 'ingredient' : True, 'steps' : True, 'category' : True}\n",
    "search_response = db.recipe_raw.find(queryArgs, projection=projectField)"
   ]
  },
  {
   "cell_type": "code",
   "execution_count": 5,
   "metadata": {},
   "outputs": [],
   "source": [
    "recipe_list = []\n",
    "for item in search_response:\n",
    "    recipe_list.append(item)"
   ]
  },
  {
   "cell_type": "code",
   "execution_count": 6,
   "metadata": {},
   "outputs": [
    {
     "data": {
      "text/plain": [
       "58392"
      ]
     },
     "execution_count": 6,
     "metadata": {},
     "output_type": "execute_result"
    }
   ],
   "source": [
    "# total recipe numbers 確認資料總數\n",
    "len(recipe_list)"
   ]
  },
  {
   "cell_type": "markdown",
   "metadata": {},
   "source": [
    "# 設定辭典 : \n",
    "<!--     選用辭典\n",
    "    辭典內容調整(切詞、刪除...) -->"
   ]
  },
  {
   "cell_type": "code",
   "execution_count": 7,
   "metadata": {
    "scrolled": true
   },
   "outputs": [
    {
     "name": "stderr",
     "output_type": "stream",
     "text": [
      "Building prefix dict from the default dictionary ...\n",
      "Loading model from cache C:\\Users\\BIGDAT~1\\AppData\\Local\\Temp\\jieba.cache\n",
      "Loading model cost 0.735 seconds.\n",
      "Prefix dict has been built successfully.\n"
     ]
    }
   ],
   "source": [
    "# 開啟 stop word list\n",
    "stop_word = []\n",
    "with open('./jieba_data/stopword.txt', 'r', encoding='utf-8') as file:\n",
    "    txt = file.readlines()\n",
    "# 過濾掉 txt內的\\n\n",
    "    stop_word = [each.strip('\\n') for each in txt]\n",
    "# 開啟 自定義辭典    \n",
    "with open('./jieba_data/mydict.txt', 'r', encoding='utf-8') as file:\n",
    "    txt = file.readlines()\n",
    "# 過濾 權重、詞性、空白\n",
    "    word_bank = [element.replace(' 10 n','').replace(' 20 n','').strip('\\n') for element in txt]\n",
    "\n",
    "# 讀取辭典\n",
    "jieba.load_userdict('./jieba_data/mydict.txt')\n",
    "# 將 嫩、豆腐 確實切開 \n",
    "jieba.suggest_freq(('嫩', '豆腐'), True)\n",
    "for word in word_bank:\n",
    "# 確保 辭典內容 確實保留\n",
    "    jieba.suggest_freq(word, True)\n",
    "# 刪除辭典字\n",
    "jieba.del_word('雞胸肉')\n",
    "jieba.del_word('雞肉')\n",
    "jieba.del_word('蛋黃')\n",
    "jieba.del_word('全蛋')\n",
    "jieba.del_word('雞蛋')\n",
    "jieba.del_word('雞胸肉片')"
   ]
  },
  {
   "cell_type": "code",
   "execution_count": 8,
   "metadata": {},
   "outputs": [],
   "source": [
    "# Initial googletrans instance\n",
    "translator = googletrans.Translator()\n",
    "word_bank_en = {}\n",
    "for word in word_bank:\n",
    "    word_bank_en[word] = (translator.translate(word)).text.lower()\n",
    "# word_bank_en"
   ]
  },
  {
   "cell_type": "code",
   "execution_count": 9,
   "metadata": {},
   "outputs": [],
   "source": [
    "def clear():\n",
    "    os.system('clear')"
   ]
  },
  {
   "cell_type": "code",
   "execution_count": null,
   "metadata": {
    "scrolled": true
   },
   "outputs": [],
   "source": [
    "word_list = []\n",
    "total_match = []\n",
    "\n",
    "for n, recipe in enumerate(recipe_list):\n",
    "# 食物向量    \n",
    "    food_vector = {}\n",
    "    try:\n",
    "        ingredient_step = recipe['ingredient'] + ',' + recipe['steps']\n",
    "        \n",
    "        url = recipe['url'];\n",
    "        title = recipe['title']\n",
    "        author = recipe['author'];\n",
    "        category = recipe['category']\n",
    "        \n",
    "        print('食譜編號: ', n)\n",
    "        seg = jieba.cut(ingredient_step, cut_all = False)\n",
    "#         print('結巴斷詞後: ', seg)\n",
    "#         word_list = word_list + ([item for item in list(seg) if len(item) > 0])\n",
    "        matched = set(seg).intersection(set(word_bank))\n",
    "        \n",
    "        if len(matched) > 4:\n",
    "            for each_word in word_bank_en:\n",
    "                if each_word in list(matched):\n",
    "                    food_vector[word_bank_en[each_word]] = 1\n",
    "                else:\n",
    "                    food_vector[word_bank_en[each_word]] = 0\n",
    "\n",
    "            # forming recipe record\n",
    "            vector_dict = {}\n",
    "\n",
    "            vector_dict['url'] = url\n",
    "            vector_dict['title'] = title\n",
    "            vector_dict['author'] = author\n",
    "            vector_dict['vector'] = food_vector\n",
    "            vector_dict['category'] = category\n",
    "#             print(vector_dict)\n",
    "#             save back to mongoDB\n",
    "            db = client.tibame\n",
    "            collection = db.recipe_vector_5\n",
    "            insert_item = vector_dict\n",
    "            insert_result = db.recipe_vector_5.insert_one(insert_item)\n",
    "\n",
    "\n",
    "            print(insert_result)\n",
    "            clear()\n",
    "        else:\n",
    "            print('The recipe is not good....')\n",
    "            clear()\n",
    "            pass\n",
    "        \n",
    "        total_match = total_match + list(matched)\n",
    "    except:\n",
    "        pass\n",
    "    \n",
    "# total_match"
   ]
  },
  {
   "cell_type": "code",
   "execution_count": null,
   "metadata": {},
   "outputs": [],
   "source": []
  },
  {
   "cell_type": "code",
   "execution_count": null,
   "metadata": {},
   "outputs": [],
   "source": [
    "ingredient_freq_list = sorted(total_match , key = lambda x : total_match[1], reverse=True)\n",
    "ingredient_freq_list"
   ]
  },
  {
   "cell_type": "code",
   "execution_count": null,
   "metadata": {},
   "outputs": [],
   "source": []
  },
  {
   "cell_type": "code",
   "execution_count": null,
   "metadata": {},
   "outputs": [],
   "source": []
  },
  {
   "cell_type": "code",
   "execution_count": null,
   "metadata": {},
   "outputs": [],
   "source": []
  },
  {
   "cell_type": "code",
   "execution_count": null,
   "metadata": {},
   "outputs": [],
   "source": []
  },
  {
   "cell_type": "code",
   "execution_count": null,
   "metadata": {},
   "outputs": [],
   "source": []
  },
  {
   "cell_type": "code",
   "execution_count": null,
   "metadata": {},
   "outputs": [],
   "source": []
  },
  {
   "cell_type": "code",
   "execution_count": null,
   "metadata": {},
   "outputs": [],
   "source": []
  },
  {
   "cell_type": "code",
   "execution_count": null,
   "metadata": {},
   "outputs": [],
   "source": []
  },
  {
   "cell_type": "code",
   "execution_count": null,
   "metadata": {},
   "outputs": [],
   "source": []
  },
  {
   "cell_type": "code",
   "execution_count": null,
   "metadata": {},
   "outputs": [],
   "source": []
  },
  {
   "cell_type": "code",
   "execution_count": null,
   "metadata": {},
   "outputs": [],
   "source": []
  },
  {
   "cell_type": "markdown",
   "metadata": {},
   "source": [
    "## 以下是胡亂練習用的"
   ]
  },
  {
   "cell_type": "markdown",
   "metadata": {},
   "source": [
    "### Translate vector features word-bank  把向量詞庫先翻譯"
   ]
  },
  {
   "cell_type": "code",
   "execution_count": null,
   "metadata": {},
   "outputs": [],
   "source": [
    "translator = googletrans.Translator()\n",
    "\n",
    "word_bank_en = []\n",
    "with open('./jieba_data/mydict.txt', 'r', encoding='utf-8') as file:\n",
    "    txt = file.readlines()\n",
    "    word_bank_list = [each.strip('\\n') for each in txt]\n",
    "    for each in word_bank_list:\n",
    "        translated_result = translator.translate(each)\n",
    "        output_str = translated_result.text.lower()+'\\n'\n",
    "        with open('./jieba_data/word_bank_en.txt', 'a', encoding='utf-8') as f:\n",
    "            f.write(output_str)\n",
    "    "
   ]
  },
  {
   "cell_type": "markdown",
   "metadata": {},
   "source": [
    "### 解決單複數及時態變形"
   ]
  },
  {
   "cell_type": "code",
   "execution_count": null,
   "metadata": {},
   "outputs": [],
   "source": []
  },
  {
   "cell_type": "code",
   "execution_count": null,
   "metadata": {},
   "outputs": [],
   "source": [
    "word_bank_dict = {}\n",
    "with open('./jieba_data/word_bank_en.txt', 'r', encoding='utf-8') as file:\n",
    "    txt = file.readlines()\n",
    "    for each in txt:\n",
    "        word_bank_dict[each.strip('\\n')] = 0 "
   ]
  },
  {
   "cell_type": "code",
   "execution_count": null,
   "metadata": {
    "scrolled": true
   },
   "outputs": [],
   "source": [
    "word_bank_dict"
   ]
  },
  {
   "cell_type": "markdown",
   "metadata": {},
   "source": [
    "### Extracting ingredient and steps 擷取食譜內食材及步驟字串"
   ]
  },
  {
   "cell_type": "code",
   "execution_count": null,
   "metadata": {
    "scrolled": true
   },
   "outputs": [],
   "source": [
    "# Initial googletrans instance\n",
    "translator = googletrans.Translator()\n",
    "\n",
    "for each_recipe in recipe_list[:20]:   ## 先練習前五筆\n",
    "    \n",
    "    try:    \n",
    "        ingre_step = each_recipe['ingredient'] + ',' + each_recipe['steps']\n",
    "    except:\n",
    "        continue\n",
    "    #print(ingre_step)\n",
    "    #print('------------------  Translated and segmented -------------------')\n",
    "    \n",
    "    \n",
    "    # Translate into EN\n",
    "    translated_results = translator.translate(ingre_step)\n",
    "    no_punctuation_result = translated_results.text.translate(str.maketrans('', '', string.punctuation))\n",
    "    ingre_step_list = no_punctuation_result.split()\n",
    "    print(ingre_step_list)\n",
    "    print('================== Find intersection ===========================')\n",
    "    # find matched items by using set. 用集合的交集方式找出配對的食材跟做法 ##效果不好 \n",
    "    \n",
    "    # Try nltk, put all words back into stem state\n",
    "    # initial a PorterStemmer() instance\n",
    "    stemmer = nltk.PorterStemmer()\n",
    "    original_matched_vec = set([word.lower() for word in ingre_step_list]).intersection(set(word_bank_dict.keys()))\n",
    "    stem_matched_vec = set([stemmer.stem(word.lower()) for word in ingre_step_list]).intersection(set(word_bank_dict.keys()))\n",
    "    union_set = original_matched_vec.union(stem_matched_vec)\n",
    "    #print(matched_vec)\n",
    "    \n",
    "    # If maintain recipes with more than 3 elements\n",
    "    if len(union_set) > 3:\n",
    "        food_vector = {}\n",
    "        for key in word_bank_dict:\n",
    "            if key in union_set:\n",
    "                food_vector[key] = 1\n",
    "            else:\n",
    "                food_vector[key] = 0\n",
    "        print(food_vector)\n",
    "\n",
    "        vector_dict = {}\n",
    "        url = each_recipe['url']; author = each_recipe['author']; category = each_recipe['category']\n",
    "        vector_dict['url'] = url\n",
    "        vector_dict['author'] = author\n",
    "        vector_dict['vector'] = food_vector\n",
    "        vector_dict['category'] = category\n",
    "\n",
    "        db = client.tibame\n",
    "        collection = db.recipe_vector\n",
    "        insert_item = vector_dict\n",
    "        insert_result = db.recipe_vector.insert_one(insert_item)\n",
    "        print(insert_result)\n",
    "    \n",
    "    print(\"********************** Next one ********************************\")\n",
    "    time.sleep(random.randrange(15,17))"
   ]
  },
  {
   "cell_type": "code",
   "execution_count": null,
   "metadata": {},
   "outputs": [],
   "source": []
  },
  {
   "cell_type": "code",
   "execution_count": null,
   "metadata": {},
   "outputs": [],
   "source": []
  },
  {
   "cell_type": "code",
   "execution_count": null,
   "metadata": {},
   "outputs": [],
   "source": []
  },
  {
   "cell_type": "markdown",
   "metadata": {},
   "source": [
    "## !!!!!!! 用正規表示法段文字 !!!!!!!!!!!!!!!!!!!!!!!"
   ]
  },
  {
   "cell_type": "code",
   "execution_count": null,
   "metadata": {},
   "outputs": [],
   "source": [
    "recipe_list[5]['ingredient']"
   ]
  },
  {
   "cell_type": "markdown",
   "metadata": {},
   "source": [
    "## 設定結巴字典及段字權重"
   ]
  },
  {
   "cell_type": "code",
   "execution_count": null,
   "metadata": {},
   "outputs": [],
   "source": [
    "# count the frequency of each word\n",
    "seg_counter = Counter(total_match)"
   ]
  },
  {
   "cell_type": "code",
   "execution_count": null,
   "metadata": {
    "scrolled": true
   },
   "outputs": [],
   "source": [
    "# transfer the object into dictionary type\n",
    "counter_dict = dict(seg_counter)\n",
    "counter_dict"
   ]
  },
  {
   "cell_type": "code",
   "execution_count": null,
   "metadata": {
    "scrolled": true
   },
   "outputs": [],
   "source": [
    "# Sorting the word based on its frequency, from highest to lowest\n",
    "ingredient_freq_list = sorted(counter_dict.keys(), key = lambda x : counter_dict[x], reverse=True)\n",
    "ingredient_freq_list"
   ]
  },
  {
   "cell_type": "markdown",
   "metadata": {},
   "source": [
    "## 算總辭頻"
   ]
  },
  {
   "cell_type": "code",
   "execution_count": null,
   "metadata": {},
   "outputs": [],
   "source": [
    "stop_word = []\n",
    "with open('./jieba_data/stopword.txt', 'r', encoding='utf-8') as file:\n",
    "    txt = file.readlines()\n",
    "    stop_word = [each.strip('\\n') for each in txt]\n",
    "    \n",
    "with open('./jieba_data/mydict.txt', 'r', encoding='utf-8') as file:\n",
    "    txt = file.readlines()\n",
    "    word_bank = [element.replace(' 10 n','').replace(' 20 n','').strip('\\n') for element in txt]\n",
    "\n",
    "    \n",
    "    \n",
    "    \n",
    "    \n",
    "jieba.load_userdict('./jieba_data/mydict.txt')\n",
    "jieba.suggest_freq(('嫩', '豆腐'), True)\n",
    "for word in word_bank:\n",
    "    jieba.suggest_freq(word, True)\n",
    "\n",
    "jieba.del_word('雞胸肉')\n",
    "jieba.del_word('雞肉')\n",
    "jieba.del_word('蛋黃')\n",
    "jieba.del_word('全蛋')\n",
    "jieba.del_word('雞蛋')\n",
    "jieba.del_word('雞胸肉片')    \n",
    "\n",
    "\n",
    "\n",
    "total_list = []\n",
    "ingredient = ''\n",
    "for recipe in recipe_list[:1000]:\n",
    "    try:\n",
    "        ingredient = recipe['ingredient']\n",
    "        seg = jieba.cut(ingredient, cut_all = False)\n",
    "        ingredient_list = [item for item in list(seg) if item not in stop_word]\n",
    "        total_list = total_list + ingredient_list\n",
    "            \n",
    "    except:\n",
    "        pass"
   ]
  },
  {
   "cell_type": "code",
   "execution_count": null,
   "metadata": {},
   "outputs": [],
   "source": [
    "total_list"
   ]
  },
  {
   "cell_type": "code",
   "execution_count": null,
   "metadata": {},
   "outputs": [],
   "source": [
    "# count the frequency of each word\n",
    "seg_counter = Counter(total_list)"
   ]
  },
  {
   "cell_type": "code",
   "execution_count": null,
   "metadata": {},
   "outputs": [],
   "source": [
    "# transfer the object into dictionary type\n",
    "counter_dict = dict(seg_counter)\n",
    "counter_dict"
   ]
  },
  {
   "cell_type": "code",
   "execution_count": null,
   "metadata": {},
   "outputs": [],
   "source": [
    "# Sorting the word based on its frequency, from highest to lowest\n",
    "ingredient_freq_list = sorted(counter_dict , key = lambda x : counter_dict[x], reverse=True)\n",
    "ingredient_freq_list"
   ]
  },
  {
   "cell_type": "code",
   "execution_count": null,
   "metadata": {},
   "outputs": [],
   "source": []
  },
  {
   "cell_type": "code",
   "execution_count": null,
   "metadata": {},
   "outputs": [],
   "source": [
    "# Initial googletrans instance\n",
    "translator = googletrans.Translator()\n",
    "\n",
    "# initial a PorterStemmer() instance\n",
    "stemmer = nltk.PorterStemmer()"
   ]
  },
  {
   "cell_type": "code",
   "execution_count": null,
   "metadata": {},
   "outputs": [],
   "source": [
    "ingredient = recipe_list[0]['ingredient']\n",
    "ingredient"
   ]
  },
  {
   "cell_type": "code",
   "execution_count": null,
   "metadata": {},
   "outputs": [],
   "source": [
    "ingredient_en = translator.translate(ingredient)\n",
    "ingredient_en.text"
   ]
  },
  {
   "cell_type": "code",
   "execution_count": null,
   "metadata": {},
   "outputs": [],
   "source": [
    "#remove space and stem each word\n",
    "ingredient_list = [item.strip() for item in ingredient_en.text.split(',')]\n",
    "ingredient_list"
   ]
  },
  {
   "cell_type": "code",
   "execution_count": null,
   "metadata": {
    "scrolled": true
   },
   "outputs": [],
   "source": [
    "pattern = list(word_bank_dict.keys())\n",
    "pattern"
   ]
  },
  {
   "cell_type": "code",
   "execution_count": null,
   "metadata": {},
   "outputs": [],
   "source": [
    "matches = set(ingredient_list).intersection(set(pattern))"
   ]
  },
  {
   "cell_type": "code",
   "execution_count": null,
   "metadata": {},
   "outputs": [],
   "source": [
    "matches"
   ]
  },
  {
   "cell_type": "code",
   "execution_count": null,
   "metadata": {},
   "outputs": [],
   "source": []
  },
  {
   "cell_type": "code",
   "execution_count": null,
   "metadata": {},
   "outputs": [],
   "source": []
  },
  {
   "cell_type": "code",
   "execution_count": null,
   "metadata": {},
   "outputs": [],
   "source": []
  },
  {
   "cell_type": "markdown",
   "metadata": {},
   "source": [
    "### Translate CN to EN 中翻英"
   ]
  },
  {
   "cell_type": "code",
   "execution_count": null,
   "metadata": {},
   "outputs": [],
   "source": []
  },
  {
   "cell_type": "code",
   "execution_count": null,
   "metadata": {},
   "outputs": [],
   "source": []
  },
  {
   "cell_type": "code",
   "execution_count": null,
   "metadata": {},
   "outputs": [],
   "source": []
  },
  {
   "cell_type": "markdown",
   "metadata": {},
   "source": [
    "### Strings segmentation 斷字"
   ]
  },
  {
   "cell_type": "code",
   "execution_count": null,
   "metadata": {},
   "outputs": [],
   "source": []
  },
  {
   "cell_type": "code",
   "execution_count": null,
   "metadata": {},
   "outputs": [],
   "source": []
  },
  {
   "cell_type": "code",
   "execution_count": null,
   "metadata": {},
   "outputs": [],
   "source": []
  },
  {
   "cell_type": "markdown",
   "metadata": {},
   "source": [
    "### Matching to form recipe vector 配對成特徵向量"
   ]
  },
  {
   "cell_type": "code",
   "execution_count": null,
   "metadata": {},
   "outputs": [],
   "source": []
  },
  {
   "cell_type": "code",
   "execution_count": null,
   "metadata": {},
   "outputs": [],
   "source": []
  },
  {
   "cell_type": "code",
   "execution_count": null,
   "metadata": {},
   "outputs": [],
   "source": []
  },
  {
   "cell_type": "markdown",
   "metadata": {},
   "source": [
    "### Save processed recipe vector back to mongoDB 轉換好的資料存回資料庫（另開新的collection）"
   ]
  },
  {
   "cell_type": "code",
   "execution_count": null,
   "metadata": {},
   "outputs": [],
   "source": []
  },
  {
   "cell_type": "code",
   "execution_count": null,
   "metadata": {},
   "outputs": [],
   "source": []
  },
  {
   "cell_type": "code",
   "execution_count": null,
   "metadata": {},
   "outputs": [],
   "source": []
  },
  {
   "cell_type": "code",
   "execution_count": null,
   "metadata": {},
   "outputs": [],
   "source": []
  }
 ],
 "metadata": {
  "kernelspec": {
   "display_name": "Python 3",
   "language": "python",
   "name": "python3"
  },
  "language_info": {
   "codemirror_mode": {
    "name": "ipython",
    "version": 3
   },
   "file_extension": ".py",
   "mimetype": "text/x-python",
   "name": "python",
   "nbconvert_exporter": "python",
   "pygments_lexer": "ipython3",
   "version": "3.7.4"
  }
 },
 "nbformat": 4,
 "nbformat_minor": 4
}
